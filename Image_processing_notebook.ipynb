{
 "cells": [
  {
   "cell_type": "markdown",
   "metadata": {},
   "source": [
    "# **Image processing notebook with python!**\n",
    "## This notebook gathers several image processing functions:\n",
    "* Split the channels of an image\n",
    "* Convert the colored (RGB) images into black and white (grayscale) images\n",
    "* A denoising function to reduce background noise of an image\n",
    "* Apply a threshold to your image\n",
    "\n",
    "Each function will be presented and explained as you will run it.\n",
    "\n",
    "## Let's start!"
   ]
  },
  {
   "cell_type": "markdown",
   "metadata": {},
   "source": [
    "# **Before starting**\n",
    "\n",
    "## Some informations:\n",
    "\n",
    "Every time you will use a function, the path to the folder that contains your images to process will be asked. And the name you want to give to the folder that will contains the processed images that will be automatically created during the running of the function you are using. \n",
    "\n",
    "If you keep the same path for a multiple use of one function, don’t forget to change the folder name that will be created. If not, the new folder will overwrite the old one with the same name and you will lose all the images you processed earlier.\n",
    "\n",
    "## To start, run the following cell to import the packages we will use in this notebook:"
   ]
  },
  {
   "cell_type": "code",
   "execution_count": 1,
   "metadata": {},
   "outputs": [],
   "source": [
    "import os\n",
    "import cv2\n",
    "import numpy as np\n",
    "from matplotlib import pyplot as plt"
   ]
  },
  {
   "cell_type": "markdown",
   "metadata": {},
   "source": [
    "# **1 - Splitting channels function**\n",
    "\n",
    "This function will split the different channels of your images. This have to be apply on RGB images. You will be able to choose to keep 1, 2 or 3 channels. Every time, the channels will be saved in separated folders (blue channels in blue channel folder, red channels into red channel folder, etc).\n",
    "\n",
    "First, give the path to the folder that contains the images to split the channels to. Don’t forget to change the “ \\ “ into “ / “, otherwise you will have a syntax error while running the code cell. For that, you can select one (1) “ \\ “, right click on it and select “Change all occurrences” and change the “ \\ “ into a “ / “, it will change every “ \\ “ into “ / “ without having to do it manually.\n",
    "\n",
    "Run the following cell to save the path to the folder, don’t forget to change it if you want to change to folder to process:"
   ]
  },
  {
   "cell_type": "code",
   "execution_count": null,
   "metadata": {},
   "outputs": [],
   "source": [
    "path_splitchannels_function=\"\""
   ]
  },
  {
   "cell_type": "markdown",
   "metadata": {},
   "source": [
    "## If you want to keep 1 channel, follow those instructions:\n",
    "\n",
    "### To keep blue channel only\n",
    "\n",
    "Give the name of the folder that will be created and where your channels will be saved, run the following cell to save the name (don’t forget to change it if you run again the splitting channels code to not overwrite and lose the previous images you would have saved):"
   ]
  },
  {
   "cell_type": "code",
   "execution_count": null,
   "metadata": {},
   "outputs": [],
   "source": [
    "blue_channels_folder_name=\"\""
   ]
  },
  {
   "cell_type": "markdown",
   "metadata": {},
   "source": [
    "Now you can run the following cell to process the folder you gave:"
   ]
  },
  {
   "cell_type": "code",
   "execution_count": 8,
   "metadata": {},
   "outputs": [],
   "source": [
    "#move to the folder with the images to process you gave just above\n",
    "os.chdir(path_splitchannels_function)\n",
    "#if a folder with the name you gave does not exists, it will create it, else, nothing happen since the folder already exists\n",
    "if not os.path.exists(blue_channels_folder_name):\n",
    "    os.mkdir(blue_channels_folder_name)\n",
    "for f in os.listdir(path_splitchannels_function):\n",
    "    if os.path.isfile(os.path.join(path_splitchannels_function, f)):\n",
    "        img = cv2.imread(os.path.join(path_splitchannels_function, f))\n",
    "        file_name = f\n",
    "        print(\"File in process :\", file_name)\n",
    "        b, g, r = cv2.split(img)\n",
    "        print(\"Split of\", f, \"done.\")\n",
    "        filename = os.path.splitext(os.path.basename(f))[0] + \"_blue_channel.tif\"\n",
    "        cv2.imwrite(os.path.join(blue_channels_folder_name, filename), b)\n",
    "        print(\"Saving of blue channel of\", f, \": OK\")\n",
    "        del b\n",
    "        del r\n",
    "        del g\n",
    "        del img\n",
    "    else:\n",
    "        print(f, \"is not an image, it will not be process.\")\n",
    "\n",
    "print(\"Process done! :D\")\n",
    "cv2.destroyAllWindows()"
   ]
  },
  {
   "cell_type": "markdown",
   "metadata": {},
   "source": [
    "### To keep red channel only\n",
    "\n",
    "Give the name of the folder that will be created and where your channels will be saved, run the following cell to save the name (don’t forget to change it if you run again the splitting channels code to not overwrite and lose the previous images you would have saved):"
   ]
  },
  {
   "cell_type": "code",
   "execution_count": null,
   "metadata": {},
   "outputs": [],
   "source": [
    "red_channels_folder_name=\"\""
   ]
  },
  {
   "cell_type": "markdown",
   "metadata": {},
   "source": [
    "Now you can run the following cell to process the folder you gave:"
   ]
  },
  {
   "cell_type": "code",
   "execution_count": null,
   "metadata": {},
   "outputs": [],
   "source": [
    "os.chdir(path_splitchannels_function)\n",
    "if not os.path.exists(red_channels_folder_name):\n",
    "    os.mkdir(red_channels_folder_name)\n",
    "for f in os.listdir(path_splitchannels_function):\n",
    "    if os.path.isfile(os.path.join(path_splitchannels_function, f)):\n",
    "        img = cv2.imread(os.path.join(path_splitchannels_function, f))\n",
    "        file_name = f\n",
    "        print(\"File in process :\", file_name)\n",
    "        b, g, r = cv2.split(img)\n",
    "        print(\"Split of\", f, \"done.\")\n",
    "        filename = os.path.splitext(os.path.basename(f))[0] + \"_red_channel.tif\"\n",
    "        cv2.imwrite(os.path.join(red_channels_folder_name, filename), r)\n",
    "        print(\"Saving of red channel of\", f, \": OK\")\n",
    "        del b\n",
    "        del r\n",
    "        del g\n",
    "        del img\n",
    "    else:\n",
    "        print(f, \"is not an image, it will not be process.\")\n",
    "\n",
    "print(\"Process done! :D\")\n",
    "cv2.destroyAllWindows()"
   ]
  },
  {
   "cell_type": "markdown",
   "metadata": {},
   "source": [
    "### To keep green channel only\n",
    "\n",
    "Give the name of the folder that will be created and where your channels will be saved, run the following cell to save the name (don’t forget to change it if you run again the splitting channels code to not overwrite and lose the previous images you would have saved):"
   ]
  },
  {
   "cell_type": "code",
   "execution_count": null,
   "metadata": {},
   "outputs": [],
   "source": [
    "green_channels_folder_name=\"\""
   ]
  },
  {
   "cell_type": "markdown",
   "metadata": {},
   "source": [
    "Now you can run the following cell to process the folder you gave:"
   ]
  },
  {
   "cell_type": "code",
   "execution_count": null,
   "metadata": {},
   "outputs": [],
   "source": [
    "os.chdir(path_splitchannels_function)\n",
    "if not os.path.exists(green_channels_folder_name):\n",
    "    os.mkdir(green_channels_folder_name)\n",
    "for f in os.listdir(path_splitchannels_function):\n",
    "    if os.path.isfile(os.path.join(path_splitchannels_function, f)):\n",
    "        img = cv2.imread(os.path.join(path_splitchannels_function, f))\n",
    "        file_name = f\n",
    "        print(\"File in process :\", file_name)\n",
    "        b, g, r = cv2.split(img)\n",
    "        print(\"Split of\", f, \"done.\")\n",
    "        filename = os.path.splitext(os.path.basename(f))[0] + \"_green_channel.tif\"\n",
    "        cv2.imwrite(os.path.join(green_channels_folder_name, filename), g)\n",
    "        print(\"Saving of green channel of\", f, \": OK\")\n",
    "        del b\n",
    "        del r\n",
    "        del g\n",
    "        del img\n",
    "    else:\n",
    "        print(f, \"is not an image, it will not be process.\")\n",
    "\n",
    "print(\"Process done! :D\")\n",
    "cv2.destroyAllWindows()"
   ]
  },
  {
   "cell_type": "markdown",
   "metadata": {},
   "source": [
    "## If you want to keep 2 channels, follow those instructions :\n",
    "\n",
    "### To keep blue and red channels\n",
    "\n",
    "Give the names of the folder where the channels will be saved. Don't forget to change it to avoid the folder to overwrite an old folder with the same name and lose the images in it:"
   ]
  },
  {
   "cell_type": "code",
   "execution_count": null,
   "metadata": {},
   "outputs": [],
   "source": [
    "blue_channels_folder_name=\"\"\n",
    "red_channels_folder_name=\"\""
   ]
  },
  {
   "cell_type": "markdown",
   "metadata": {},
   "source": [
    "Now you can run the following cell to process the folder you gave:"
   ]
  },
  {
   "cell_type": "code",
   "execution_count": null,
   "metadata": {},
   "outputs": [],
   "source": [
    "os.chdir(path_splitchannels_function)\n",
    "if not os.path.exists(blue_channels_folder_name):\n",
    "    os.mkdir(blue_channels_folder_name)\n",
    "if not os.path.exists(red_channels_folder_name):\n",
    "    os.mkdir(red_channels_folder_name)\n",
    "for f in os.listdir(path_splitchannels_function):\n",
    "    if os.path.isfile(os.path.join(path_splitchannels_function, f)):\n",
    "        img = cv2.imread(os.path.join(path_splitchannels_function, f))\n",
    "        file_name = f\n",
    "        print(\"File in process :\", file_name)\n",
    "        b, g, r = cv2.split(img)\n",
    "        print(\"Split of\", f, \"done.\")\n",
    "        blue_filename = os.path.splitext(os.path.basename(f))[0] + \"_blue_channel.tif\"\n",
    "        cv2.imwrite(os.path.join(blue_channels_folder_name, filename), b)\n",
    "        print(\"Saving of blue channel of\", f, \": OK\")\n",
    "        red_filename = os.path.splitext(os.path.basename(f))[0] + \"_red_channel.tif\"\n",
    "        cv2.imwrite(os.path.join(red_channels_folder_name, filename), r)\n",
    "        print(\"Saving of red channel of\", f, \": OK\")\n",
    "        del b\n",
    "        del r\n",
    "        del g\n",
    "        del img\n",
    "    else:\n",
    "        print(f, \"is not an image, it will not be process.\")\n",
    "\n",
    "print(\"Process done! :D\")\n",
    "cv2.destroyAllWindows()"
   ]
  },
  {
   "cell_type": "markdown",
   "metadata": {},
   "source": [
    "### To keep blue and green channels\n",
    "\n",
    "Give the names of the folder where the channels will be saved. Don't forget to change it to avoid the folder to overwrite an old folder with the same name and lose the images in it:"
   ]
  },
  {
   "cell_type": "code",
   "execution_count": null,
   "metadata": {},
   "outputs": [],
   "source": [
    "blue_channels_folder_name=\"\"\n",
    "green_channels_folder_name=\"\""
   ]
  },
  {
   "cell_type": "markdown",
   "metadata": {},
   "source": [
    "Now you can run the following cell to process the folder you gave:"
   ]
  },
  {
   "cell_type": "code",
   "execution_count": null,
   "metadata": {},
   "outputs": [],
   "source": [
    "os.chdir(path_splitchannels_function)\n",
    "if not os.path.exists(blue_channels_folder_name):\n",
    "    os.mkdir(blue_channels_folder_name)\n",
    "if not os.path.exists(green_channels_folder_name):\n",
    "    os.mkdir(green_channels_folder_name)\n",
    "for f in os.listdir(path_splitchannels_function):\n",
    "    if os.path.isfile(os.path.join(path_splitchannels_function, f)):\n",
    "        img = cv2.imread(os.path.join(path_splitchannels_function, f))\n",
    "        file_name = f\n",
    "        print(\"File in process :\", file_name)\n",
    "        b, g, r = cv2.split(img)\n",
    "        print(\"Split of\", f, \"done.\")\n",
    "        blue_filename = os.path.splitext(os.path.basename(f))[0] + \"_blue_channel.tif\"\n",
    "        cv2.imwrite(os.path.join(blue_channels_folder_name, filename), b)\n",
    "        print(\"Saving of blue channel of\", f, \": OK\")\n",
    "        green_filename = os.path.splitext(os.path.basename(f))[0] + \"_green_channel.tif\"\n",
    "        cv2.imwrite(os.path.join(green_channels_folder_name, filename), g)\n",
    "        print(\"Saving of green channel of\", f, \": OK\")\n",
    "        del b\n",
    "        del r\n",
    "        del g\n",
    "        del img\n",
    "    else:\n",
    "        print(f, \"is not an image, it will not be process.\")\n",
    "\n",
    "print(\"Process done! :D\")\n",
    "cv2.destroyAllWindows()"
   ]
  },
  {
   "cell_type": "markdown",
   "metadata": {},
   "source": [
    "### To keep green and red channels\n",
    "\n",
    "Give the names of the folder where the channels will be saved. Don't forget to change it to avoid the folder to overwrite an old folder with the same name and lose the images in it:"
   ]
  },
  {
   "cell_type": "code",
   "execution_count": null,
   "metadata": {},
   "outputs": [],
   "source": [
    "red_channels_folder_name=\"\"\n",
    "green_channels_folder_name=\"\""
   ]
  },
  {
   "cell_type": "markdown",
   "metadata": {},
   "source": [
    "Now you can run the following cell to process the folder you gave:"
   ]
  },
  {
   "cell_type": "code",
   "execution_count": null,
   "metadata": {},
   "outputs": [],
   "source": [
    "os.chdir(path_splitchannels_function)\n",
    "if not os.path.exists(red_channels_folder_name):\n",
    "    os.mkdir(red_channels_folder_name)\n",
    "if not os.path.exists(green_channels_folder_name):\n",
    "    os.mkdir(green_channels_folder_name)\n",
    "for f in os.listdir(path_splitchannels_function):\n",
    "    if os.path.isfile(os.path.join(path_splitchannels_function, f)):\n",
    "        img = cv2.imread(os.path.join(path_splitchannels_function, f))\n",
    "        file_name = f\n",
    "        print(\"File in process :\", file_name)\n",
    "        b, g, r = cv2.split(img)\n",
    "        print(\"Split of\", f, \"done.\")\n",
    "        red_filename = os.path.splitext(os.path.basename(f))[0] + \"_red_channel.tif\"\n",
    "        cv2.imwrite(os.path.join(red_channels_folder_name, filename), r)\n",
    "        print(\"Saving of red channel of\", f, \": OK\")\n",
    "        green_filename = os.path.splitext(os.path.basename(f))[0] + \"_green_channel.tif\"\n",
    "        cv2.imwrite(os.path.join(green_channels_folder_name, filename), g)\n",
    "        print(\"Saving of green channel of\", f, \": OK\")\n",
    "        del b\n",
    "        del r\n",
    "        del g\n",
    "        del img\n",
    "    else:\n",
    "        print(f, \"is not an image, it will not be process.\")\n",
    "\n",
    "print(\"Process done! :D\")\n",
    "cv2.destroyAllWindows()"
   ]
  },
  {
   "cell_type": "markdown",
   "metadata": {},
   "source": [
    "## If you want to keep 3 channels, follow those instructions :\n",
    "\n",
    "Give the names of the folder where the channels will be saved. Don't forget to change it to avoid the folder to overwrite an old folder with the same name and lose the images in it:"
   ]
  },
  {
   "cell_type": "code",
   "execution_count": null,
   "metadata": {},
   "outputs": [],
   "source": [
    "red_channels_folder_name=\"\"\n",
    "green_channels_folder_name=\"\"\n",
    "blue_channels_folder_name=\"\""
   ]
  },
  {
   "cell_type": "markdown",
   "metadata": {},
   "source": [
    "Now you can run the following cell to process the folder you gave:"
   ]
  },
  {
   "cell_type": "code",
   "execution_count": null,
   "metadata": {},
   "outputs": [],
   "source": [
    "os.chdir(path_splitchannels_function)\n",
    "if not os.path.exists(red_channels_folder_name):\n",
    "    os.mkdir(red_channels_folder_name)\n",
    "if not os.path.exists(green_channels_folder_name):\n",
    "    os.mkdir(green_channels_folder_name)\n",
    "if not os.path.exists(blue_channels_folder_name):\n",
    "    os.mkdir(blue_channels_folder_name)\n",
    "for f in os.listdir(path_splitchannels_function):\n",
    "    if os.path.isfile(os.path.join(path_splitchannels_function, f)):\n",
    "        img = cv2.imread(os.path.join(path_splitchannels_function, f))\n",
    "        file_name = f\n",
    "        print(\"File in process :\", file_name)\n",
    "        b, g, r = cv2.split(img)\n",
    "        print(\"Split of\", f, \"done.\")\n",
    "        red_filename = os.path.splitext(os.path.basename(f))[0] + \"_red_channel.tif\"\n",
    "        cv2.imwrite(os.path.join(red_channels_folder_name, filename), r)\n",
    "        print(\"Saving of red channel of\", f, \": OK\")\n",
    "        green_filename = os.path.splitext(os.path.basename(f))[0] + \"_green_channel.tif\"\n",
    "        cv2.imwrite(os.path.join(green_channels_folder_name, filename), g)\n",
    "        print(\"Saving of green channel of\", f, \": OK\")\n",
    "        blue_filename = os.path.splitext(os.path.basename(f))[0] + \"_blue_channel.tif\"\n",
    "        cv2.imwrite(os.path.join(blue_channels_folder_name, filename), b)\n",
    "        print(\"Saving of blue channel of\", f, \": OK\")\n",
    "        del b\n",
    "        del r\n",
    "        del g\n",
    "        del img\n",
    "    else:\n",
    "        print(f, \"is not an image, it will not be process.\")\n",
    "\n",
    "print(\"Process done! :D\")\n",
    "cv2.destroyAllWindows()"
   ]
  },
  {
   "cell_type": "markdown",
   "metadata": {},
   "source": [
    "# **2 - Conversion of colored (RGB) images into black and white (grayscale) images**\n",
    "\n",
    "This function will convert colored images into black and white images. It’s better for the denoising function just after or applying it just after the thresholding : on Fiji for analyzing the particles, the image has to be on grayscale. \n",
    "\n",
    "First, give the path of the folder that contains the images to convert and the name of the folder that will contains the processed images (don’t forget to change the folder name every time you run the function on the same folder to avoid the new folder to overwrite the old one with the same name) and run the cell to save the information (don’t forget to change the “ \\ “ into “ / “, otherwise you will have a syntax error while running the code cell. For that, you can select one (1) “ \\ “, right click on it and select “Change all occurrences” and change the “ \\ “ into a “ / “, it will change every “ \\ “ into “ / “ without having to do it manually):"
   ]
  },
  {
   "cell_type": "code",
   "execution_count": 2,
   "metadata": {},
   "outputs": [],
   "source": [
    "path_grayscale_function=\"\"\n",
    "grayscale_images_folder_name=\"\""
   ]
  },
  {
   "cell_type": "markdown",
   "metadata": {},
   "source": [
    "Then, run the following cell to start the process:"
   ]
  },
  {
   "cell_type": "code",
   "execution_count": 19,
   "metadata": {},
   "outputs": [
    {
     "name": "stdout",
     "output_type": "stream",
     "text": [
      "File in process : L168_CFA_Injection_S3s1_00_Pyramid_resize.tif\n",
      "Conversion to grayscale : OK\n",
      "Saving : OK\n",
      "File in process : L168_CFA_Injection_S3s2_00_Pyramid_resize.tif\n",
      "Conversion to grayscale : OK\n",
      "Saving : OK\n",
      "Process done! :D\n"
     ]
    }
   ],
   "source": [
    "#browse the folder that contains the images to process you gave earlier\n",
    "for f in os.listdir(path_grayscale_function):\n",
    "    #verify if it's a file, if not, it will not processed it\n",
    "    if os.path.isfile(os.path.join(path_grayscale_function, f)):\n",
    "        #load the image (that is a file)\n",
    "        img = cv2.imread(os.path.join(path_grayscale_function, f))\n",
    "        file_name = f\n",
    "        #indicate you which file is in process right now\n",
    "        print(\"File in process :\", file_name)\n",
    "        #convert the rgb image into a grayscale one\n",
    "        grayscale_images = cv2.cvtColor(img, cv2.COLOR_BGR2GRAY)\n",
    "        print(\"Conversion to grayscale : OK\")\n",
    "        #save the grayscale image with the initial name + the \"grayscale\" indicator + the extension we want to save it \".tif\"\n",
    "        gray_image_filename = os.path.splitext(os.path.basename(f))[0] + \"_grayscale.tif\"\n",
    "        cv2.imwrite(os.path.join(grayscale_images_folder_name, gray_image_filename), grayscale_images)\n",
    "        print(\"Saving : OK\")\n",
    "        #delete the variables to clear the memory\n",
    "        del grayscale_images\n",
    "        del img\n",
    "    else:\n",
    "        print(f, \"is not an image, it will not be process.\")\n",
    "        \n",
    "print(\"Process done! :D\")\n",
    "cv2.destroyAllWindows()"
   ]
  },
  {
   "cell_type": "markdown",
   "metadata": {},
   "source": [
    "# **3 - Denoising function**\n",
    "\n",
    "Before starting, give the path to the folder that contains the images to process (don’t forget to change the “ \\ “ into “ / “, otherwise you will have a syntax error while running the code cell. For that, you can select one (1) “ \\ “, right click on it and select “Change all occurrences” and change the “ \\ “ into a “ / “, it will change every “ \\ “ into “ / “ without having to do it manually), and the name of the folder that will contains the processed images, and run the cell to save it (don’t forget to change the folder name every time you run the function on the same folder to avoid the new folder to overwrite the old one with the same name):"
   ]
  },
  {
   "cell_type": "code",
   "execution_count": null,
   "metadata": {},
   "outputs": [],
   "source": [
    "path_denoising_function=\"\"\n",
    "denoised_images_folder_name=\"\""
   ]
  },
  {
   "cell_type": "markdown",
   "metadata": {},
   "source": [
    "Now, some explanations on how to use the denoising function:\n",
    "\n",
    "The denoising function use a Non-Local Mean Denoising algorithm to reduce the noise of an image. \n",
    "\n",
    "The algorithm walks through the pixels of the image. Around the pixel in process, a window of AxA pixels is selected (where A is an odd number). Into this AxA pixels windows, little BxB windows are randomly selected (where B is on odd number and lower than A). The algorithm calculate the average pixel value between all the pixels of the BxB windows, and replace the pixel value in process by this average value.\n",
    "\n",
    "Choose the A and B value to use the denoising function. The recommended value for A is 21 and for B is 5 (warning, the 2 numbers have to be odd!!). The bigger B value you give, the more intense the denoising will be:\n"
   ]
  },
  {
   "cell_type": "code",
   "execution_count": 14,
   "metadata": {},
   "outputs": [],
   "source": [
    "A = 21\n",
    "B = 5"
   ]
  },
  {
   "cell_type": "markdown",
   "metadata": {},
   "source": [
    "Write down that this function is the most time-consuming compare to the others functions of this notebook, don’t be afraid if the process of a lot of images take 1h or more. Anyway, the code will indicate you which file is in process so that you can follow the process and see where it is."
   ]
  },
  {
   "cell_type": "markdown",
   "metadata": {},
   "source": [
    "## If you want to denoise colored (RGB) images, follow those instructions:\n",
    "\n",
    "The function is not the same if you want to process colored (RGB) images or black and white (grayscale) ones. Run the following cell if the path you gave contains colored images:"
   ]
  },
  {
   "cell_type": "code",
   "execution_count": 21,
   "metadata": {},
   "outputs": [
    {
     "name": "stdout",
     "output_type": "stream",
     "text": [
      "File in process : L168_CFA_Injection_S3s1_00_Pyramid_resize_grayscale.tif\n",
      "Denoising : OK\n",
      "Saving : OK\n",
      "File in process : L168_CFA_Injection_S3s2_00_Pyramid_resize_grayscale.tif\n",
      "Denoising : OK\n",
      "Saving : OK\n",
      "Process done! :D\n"
     ]
    }
   ],
   "source": [
    "#browse the folder that contains the images to process you gave earlier\n",
    "for f in os.listdir(path_denoising_function):\n",
    "    #verify if it's a file, if not, it will not processed it\n",
    "    if os.path.isfile(os.path.join(path_denoising_function, f)):\n",
    "        #load the image (that is a file)\n",
    "        img = cv2.imread(os.path.join(path_denoising_function, f))\n",
    "        file_name = f\n",
    "        #indicate you which file is in process right now\n",
    "        #apply the denoising function to the image that is loaded\n",
    "        denoised_images = cv2.fastNlMeansDenoisingColored(img, None, B, A)\n",
    "        print(\"Denoising : OK\")\n",
    "        #save the denoised image with the initial name + the \"denoised\" indicator + the extension we want to save it \".tif\"\n",
    "        denoised_image_filename = os.path.splitext(os.path.basename(f))[0] + \"_denoised.tif\"\n",
    "        cv2.imwrite(os.path.join(denoised_images_folder_name, denoised_image_filename), denoised_images)\n",
    "        print(\"Saving : OK\")\n",
    "        #delete the variables to clear the memory\n",
    "        del denoised_images\n",
    "        del img\n",
    "    else:\n",
    "        print(f, \"is not an image, it will ne bot process.\")\n",
    "\n",
    "print(\"Process done! :D\")\n",
    "cv2.destroyAllWindows()"
   ]
  },
  {
   "cell_type": "markdown",
   "metadata": {},
   "source": [
    "## If you want to denoise black and white (grayscale) images, follow those instructions:\n",
    "\n",
    "Run the following cell if the path you gave contains black and white (grayscale) images:"
   ]
  },
  {
   "cell_type": "code",
   "execution_count": null,
   "metadata": {},
   "outputs": [],
   "source": [
    "#browse the folder that contains the images to process you gave earlier\n",
    "for f in os.listdir(path_denoising_function):\n",
    "    #verify if it's a file, if not, it will not processed it\n",
    "    if os.path.isfile(os.path.join(path_denoising_function, f)):\n",
    "        #load the image (that is a file)\n",
    "        img = cv2.imread(os.path.join(path_denoising_function, f))\n",
    "        file_name = f\n",
    "        #indicate you which file is in process right now\n",
    "        #apply the denoising function to the image that is loaded\n",
    "        denoised_images = cv2.fastNlMeansDenoising(img, None, B, A)\n",
    "        print(\"Denoising : OK\")\n",
    "        #save the denoised image with the initial name + the \"denoised\" indicator + the extension we want to save it \".tif\"\n",
    "        denoised_image_filename = os.path.splitext(os.path.basename(f))[0] + \"_denoised.tif\"\n",
    "        cv2.imwrite(os.path.join(denoised_images_folder_name, denoised_image_filename), denoised_images)\n",
    "        print(\"Saving : OK\")\n",
    "        #delete the variables to clear the memory\n",
    "        del denoised_images\n",
    "        del img\n",
    "    else:\n",
    "        print(f, \"is not an image, it will ne bot process.\")\n",
    "\n",
    "print(\"Process done! :D\")\n",
    "cv2.destroyAllWindows()"
   ]
  },
  {
   "cell_type": "markdown",
   "metadata": {},
   "source": [
    "## **4 - Apply a threshold to the images**"
   ]
  },
  {
   "cell_type": "markdown",
   "metadata": {},
   "source": [
    "Before starting, give the path where the images to process are (don’t forget to change the folder name every time you run the function on the same folder to avoid the new folder to overwrite the old one with the same name) and run the cell to save the information (don’t forget to change the “ \\ “ into “ / “, otherwise you will have a syntax error while running the code cell. For that, you can select one (1) “ \\ “, right click on it and select “Change all occurrences” and change the “ \\ “ into a “ / “, it will change every “ \\ “ into “ / “ without having to do it manually) and the name of the folder that will contains the processed images, and run the cell to save it:"
   ]
  },
  {
   "cell_type": "code",
   "execution_count": 9,
   "metadata": {},
   "outputs": [],
   "source": [
    "path_threshold_function=\"\"\n",
    "thresholded_images_folder_name=\"\""
   ]
  },
  {
   "cell_type": "markdown",
   "metadata": {},
   "source": [
    "The threshold will calculate the area of the image's histogram and browse over the pixel value axe from 255 to 0 by calculating the current area it is everytime he move from a value to the lower one. When the current area calculated is the same as the target area set up, it will retun the pixel value corresponding to it, and do the threshold with this value.\n",
    "\n",
    "Run the following cell to set up the target area value. For images with low white intensity, the best value is around 0.02 (2% of the histogram area). Else, if the image has a lot of white intensity (a big fluorescent striatum or other regions very white), the best value goes around 0.14 (14%). "
   ]
  },
  {
   "cell_type": "code",
   "execution_count": 4,
   "metadata": {},
   "outputs": [],
   "source": [
    "target_area=0.02"
   ]
  },
  {
   "cell_type": "markdown",
   "metadata": {},
   "source": [
    "Now, give the path to the image to process (click right on the image and copy the path.) before running the process (don’t forget to change the folder name every time you run the function on the same folder to avoid the new folder to overwrite the old one with the same name) and run the cell to save the information (don’t forget to change the “ \\ “ into “ / “, otherwise you will have a syntax error while running the code cell. For that, you can select one (1) “ \\ “, right click on it and select “Change all occurrences” and change the “ \\ “ into a “ / “, it will change every “ \\ “ into “ / “ without having to do it manually):"
   ]
  },
  {
   "cell_type": "code",
   "execution_count": 5,
   "metadata": {},
   "outputs": [],
   "source": [
    "path_to_image_to_threshold=\"\""
   ]
  },
  {
   "cell_type": "markdown",
   "metadata": {},
   "source": [
    "Now that we have the target area of the histogram for the pixel value of the threshold and the path to the image to process, run the following cell to determine the pixel value according to the target area:"
   ]
  },
  {
   "cell_type": "code",
   "execution_count": 10,
   "metadata": {},
   "outputs": [],
   "source": [
    "def function_pixel_value_for_threshold(hist):\n",
    "    #determine total area of the histogram\n",
    "    total_area = np.sum(hist)\n",
    "    #initializations\n",
    "    current_area = 0.0\n",
    "    pixel_value = 0\n",
    "    #browse the histogram in reverse (from 255 to 0 and not from 0 to 255)\n",
    "    for i in range(255, -1, -1):\n",
    "        #calculate the area between the pixel we're at divide by the total area\n",
    "        current_area += hist[i] / total_area\n",
    "        #if the current area % is above or equal to the target we indicated, \n",
    "        #then the pixel value that is return take the i value\n",
    "        if current_area >= target_area:\n",
    "            pixel_value = i\n",
    "            break\n",
    "    #out the pixel value\n",
    "    return pixel_value"
   ]
  },
  {
   "cell_type": "markdown",
   "metadata": {},
   "source": [
    "Now it's time for the thresholding! Run the following cell to process your image:"
   ]
  },
  {
   "cell_type": "code",
   "execution_count": 13,
   "metadata": {},
   "outputs": [
    {
     "data": {
      "image/png": "[encoded data removed]",
      "text/plain": [
       "<Figure size 640x480 with 1 Axes>"
      ]
     },
     "metadata": {},
     "output_type": "display_data"
    },
    {
     "name": "stdout",
     "output_type": "stream",
     "text": [
      "Threshold: OK\n",
      "Saving: OK\n",
      "Process done! :D\n"
     ]
    }
   ],
   "source": [
    "os.chdir(path_threshold_function)\n",
    "if not os.path.exists(thresholded_images_folder_name):\n",
    "    os.mkdir(thresholded_images_folder_name)\n",
    "    \n",
    "img = cv2.imread(os.path.join(path_to_image_to_threshold))\n",
    "if os.path.isfile(os.path.join(path_to_image_to_threshold)):\n",
    "    img_histo = cv2.calcHist([img], [0], None, [256], [0, 256])\n",
    "    img_histo_normalized = img_histo / np.sum(img_histo)\n",
    "    #calculate the threshold value\n",
    "    pixel_value_for_thresholding = function_pixel_value_for_threshold(img_histo_normalized)   \n",
    "    #application of the threshold according to the condition just above\n",
    "    _, threshold = cv2.threshold(img, pixel_value_for_thresholding, 255, cv2.THRESH_BINARY)\n",
    "    print(\"Threshold: OK\")  \n",
    "    #saving of the processed image\n",
    "    filename = os.path.splitext(os.path.basename(path_to_image_to_threshold))[0] + \"_thresholded.tif\"\n",
    "    cv2.imwrite(os.path.join(thresholded_images_folder_name, filename), threshold)\n",
    "    print(\"Saving: OK\")\n",
    "else:\n",
    "    f = os.path.basename(path_to_image_to_threshold)\n",
    "    print(f, \"is not a file and will not be processed.\")\n",
    "\n",
    "print(\"Process done! :D\")\n",
    "cv2.destroyAllWindows()"
   ]
  }
 ],
 "metadata": {
  "kernelspec": {
   "display_name": "Python 3",
   "language": "python",
   "name": "python3"
  },
  "language_info": {
   "codemirror_mode": {
    "name": "ipython",
    "version": 3
   },
   "file_extension": ".py",
   "mimetype": "text/x-python",
   "name": "python",
   "nbconvert_exporter": "python",
   "pygments_lexer": "ipython3",
   "version": "3.11.3"
  },
  "orig_nbformat": 4
 },
 "nbformat": 4,
 "nbformat_minor": 2
}
